{
  "cells": [
    {
      "cell_type": "markdown",
      "metadata": {
        "id": "view-in-github",
        "colab_type": "text"
      },
      "source": [
        "<a href=\"https://colab.research.google.com/github/Robert-Gomez-AI/Generative_models/blob/main/transformers.ipynb\" target=\"_parent\"><img src=\"https://colab.research.google.com/assets/colab-badge.svg\" alt=\"Open In Colab\"/></a>"
      ]
    },
    {
      "cell_type": "markdown",
      "metadata": {
        "id": "FBYsufCPH4IY"
      },
      "source": [
        "# Transformers"
      ]
    },
    {
      "cell_type": "markdown",
      "source": [
        "## Disección\n",
        "\n",
        "* Multihead attention (Tuli)\n",
        "* Feedforward (Robert)\n",
        "* Positional encoding (Sarah)\n",
        "* Encoder y decoder (Robert)\n",
        "* Transformer(Tuli)\n",
        "* Test(Sarah y Tuli)"
      ],
      "metadata": {
        "id": "CBSB11v5IRVn"
      }
    },
    {
      "cell_type": "code",
      "source": [],
      "metadata": {
        "id": "ZnRCE2brIYZc"
      },
      "execution_count": null,
      "outputs": []
    },
    {
      "cell_type": "markdown",
      "source": [
        "## Implementación"
      ],
      "metadata": {
        "id": "mRlwh--rIV1p"
      }
    },
    {
      "cell_type": "markdown",
      "source": [
        "https://github.com/nestorsgarzonc/intelligent-systems-project-un/tree/main"
      ],
      "metadata": {
        "id": "xDKQATkIKXP-"
      }
    },
    {
      "cell_type": "code",
      "execution_count": null,
      "metadata": {
        "id": "SJLIyG5JH4Ia"
      },
      "outputs": [],
      "source": []
    },
    {
      "cell_type": "markdown",
      "metadata": {
        "id": "ibHP_7efH4Ib"
      },
      "source": []
    }
  ],
  "metadata": {
    "language_info": {
      "name": "python"
    },
    "colab": {
      "provenance": [],
      "gpuType": "T4",
      "include_colab_link": true
    },
    "accelerator": "GPU",
    "kernelspec": {
      "name": "python3",
      "display_name": "Python 3"
    }
  },
  "nbformat": 4,
  "nbformat_minor": 0
}